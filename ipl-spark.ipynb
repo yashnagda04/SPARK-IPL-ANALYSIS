{
 "cells": [
  {
   "cell_type": "code",
   "execution_count": 52,
   "metadata": {},
   "outputs": [],
   "source": [
    "from pyspark.sql import SparkSession\n",
    "from pyspark.sql import functions as F\n",
    "import matplotlib.pyplot as plt"
   ]
  },
  {
   "cell_type": "markdown",
   "metadata": {},
   "source": [
    "# IPL Analysis using Pyspark"
   ]
  },
  {
   "cell_type": "markdown",
   "metadata": {},
   "source": [
    "## EDA"
   ]
  },
  {
   "cell_type": "code",
   "execution_count": 15,
   "metadata": {},
   "outputs": [],
   "source": [
    "spark = SparkSession.builder.getOrCreate()"
   ]
  },
  {
   "cell_type": "code",
   "execution_count": 21,
   "metadata": {},
   "outputs": [],
   "source": [
    "df = spark.read.csv('data/Ipl-clean-data2008-2023.csv',header=True,inferSchema=True)"
   ]
  },
  {
   "cell_type": "code",
   "execution_count": 40,
   "metadata": {},
   "outputs": [
    {
     "name": "stdout",
     "output_type": "stream",
     "text": [
      "+---+------+-------+--------------------+----------+--------------------+---------+---------+--------+----------+----------------+----------------+------+--------------------+-----------------+-----------------+--------+--------------------+--------------+-------------+-------------+--------------------+----------+----------+---------+------------+---------------+----------+---------+------------+---------------+--------------------+--------------------+--------------------+--------------------+--------------------+--------------------+--------------------+--------------------+--------------------+---------------+------------+---------------+--------------+\n",
      "| sn|season|     id|                name|short_name|         description|home_team|away_team|toss_won|  decision|1st_inning_score|2nd_inning_score|winner|              result|       start_date|         end_date|venue_id|          venue_name|  home_captain| away_captain|          pom|              points|super_over|home_overs|home_runs|home_wickets|home_boundaries|away_overs|away_runs|away_wickets|away_boundaries|          highlights|    home_key_batsman|     home_key_bowler|         home_playx1|         away_playx1|    away_key_batsman|     away_key_bowler|          match_days|             umpire1|        umpire2|   tv_umpire|        referee|reserve_umpire|\n",
      "+---+------+-------+--------------------+----------+--------------------+---------+---------+--------+----------+----------------+----------------+------+--------------------+-----------------+-----------------+--------+--------------------+--------------+-------------+-------------+--------------------+----------+----------+---------+------------+---------------+----------+---------+------------+---------------+--------------------+--------------------+--------------------+--------------------+--------------------+--------------------+--------------------+--------------------+--------------------+---------------+------------+---------------+--------------+\n",
      "|  4|2023.0|1359544|Royal Challengers...|  RCB v GT|70th Match (N), I...|      RCB|       GT|      GT|BOWL FIRST|           197/5|           198/4|    GT|Titans won by 6 w...|2023-05-21T14:00Z|2023-05-22T23:59Z|   57897|M.Chinnaswamy Sta...|Faf du Plessis|Hardik Pandya| Shubman Gill|Gujarat Titans 2,...|     false|      20.0|    197.0|         5.0|           28.0|      19.1|    198.0|         4.0|           25.0|Gill's second str...|Virat Kohli,Faf d...|Mohammed Siraj,Ha...|Virat Kohli (UKN)...|Wriddhiman Saha (...|Shubman Gill,Vija...|Noor Ahmad,Rashid...|21 May 2023 - nig...|         Nitin Menon|Virender Sharma|Tapan Sharma|Javagal Srinath|    VM  Dhokre|\n",
      "|  5|2023.0|1359543|Mumbai Indians v ...|  MI v SRH|69th Match (D/N),...|       MI|      SRH|      MI|BOWL FIRST|           200/5|           201/2|    MI|Mumbai won by 8 w...|2023-05-21T10:00Z|2023-05-22T23:59Z|   58324|Wankhede Stadium,...|  Rohit Sharma|Aiden Markram|Cameron Green|Mumbai Indians 2,...|     false|      18.0|    201.0|         2.0|           31.0|      20.0|    200.0|         5.0|           27.0|Green century and...|Cameron Green,Roh...|Akash Madhwal,Chr...|Ishan Kishan (WK)...|Vivrant Sharma (A...|Mayank Agarwal,Vi...|Bhuvneshwar Kumar...|21 May 2023 - day...|KN Ananthapadmana...|     Rod Tucker|Rohan Pandit|Pankaj Dharmani|Parashar Joshi|\n",
      "+---+------+-------+--------------------+----------+--------------------+---------+---------+--------+----------+----------------+----------------+------+--------------------+-----------------+-----------------+--------+--------------------+--------------+-------------+-------------+--------------------+----------+----------+---------+------------+---------------+----------+---------+------------+---------------+--------------------+--------------------+--------------------+--------------------+--------------------+--------------------+--------------------+--------------------+--------------------+---------------+------------+---------------+--------------+\n",
      "only showing top 2 rows\n",
      "\n"
     ]
    }
   ],
   "source": [
    "df.show(2)"
   ]
  },
  {
   "cell_type": "code",
   "execution_count": 37,
   "metadata": {},
   "outputs": [
    {
     "name": "stdout",
     "output_type": "stream",
     "text": [
      "+--------+-----+\n",
      "|toss_won|count|\n",
      "+--------+-----+\n",
      "|      MI|  116|\n",
      "|      DC|  110|\n",
      "|     KKR|  105|\n",
      "|     RCB|  101|\n",
      "|     SRH|  100|\n",
      "|      RR|   98|\n",
      "|     CSK|   97|\n",
      "|    KXIP|   89|\n",
      "|     PWI|   20|\n",
      "|      GT|   17|\n",
      "|      GL|   15|\n",
      "|     RPS|   10|\n",
      "|   Kochi|    8|\n",
      "|     LSG|    8|\n",
      "|    PBKS|    5|\n",
      "+--------+-----+\n",
      "\n"
     ]
    }
   ],
   "source": [
    "#highest tosses won\n",
    "df.groupBy('toss_won').agg(F.count('toss_won').alias('count')).orderBy('count',ascending=False).show()"
   ]
  },
  {
   "cell_type": "code",
   "execution_count": 38,
   "metadata": {},
   "outputs": [
    {
     "name": "stdout",
     "output_type": "stream",
     "text": [
      "+------+-----+\n",
      "|winner|count|\n",
      "+------+-----+\n",
      "|    MI|  125|\n",
      "|   CSK|  110|\n",
      "|   KKR|  105|\n",
      "|   RCB|  102|\n",
      "|   SRH|   93|\n",
      "|    DC|   92|\n",
      "|    RR|   92|\n",
      "|  KXIP|   82|\n",
      "|    GT|   20|\n",
      "|  PBKS|   19|\n",
      "|   LSG|   16|\n",
      "|   RPS|   14|\n",
      "|   PWI|   12|\n",
      "|    GL|   11|\n",
      "| Kochi|    6|\n",
      "+------+-----+\n",
      "\n"
     ]
    }
   ],
   "source": [
    "#highest wins\n",
    "df.groupBy('winner').agg(F.count('toss_won').alias('count')).orderBy('count',ascending=False).show()"
   ]
  },
  {
   "cell_type": "code",
   "execution_count": 39,
   "metadata": {},
   "outputs": [
    {
     "name": "stdout",
     "output_type": "stream",
     "text": [
      "+----------+-----+\n",
      "|  decision|count|\n",
      "+----------+-----+\n",
      "|BOWL FIRST|  576|\n",
      "| BAT FIRST|  323|\n",
      "+----------+-----+\n",
      "\n"
     ]
    }
   ],
   "source": [
    "#highest wins\n",
    "df.groupBy('decision').agg(F.count('toss_won').alias('count')).orderBy('count',ascending=False).show()"
   ]
  },
  {
   "cell_type": "code",
   "execution_count": 45,
   "metadata": {},
   "outputs": [],
   "source": [
    "home_runs_list = [row['home_runs'] for row in df.select('home_runs').collect()]\n",
    "away_runs_list = [row['away_runs'] for row in df.select('away_runs').collect()]\n",
    "home_runs_list.extend(away_runs_list)"
   ]
  },
  {
   "cell_type": "code",
   "execution_count": 61,
   "metadata": {},
   "outputs": [
    {
     "data": {
      "image/png": "[encoded data removed]",
      "text/plain": [
       "<Figure size 600x400 with 1 Axes>"
      ]
     },
     "metadata": {},
     "output_type": "display_data"
    }
   ],
   "source": [
    "plt.figure(figsize=(6, 4))\n",
    "n, bins, patches = plt.hist(home_runs_list, bins=[0, 50, 100, 150, 200, 250, 300], edgecolor='black')\n",
    "plt.title('Total Runs Histogram')\n",
    "plt.xlabel('Runs Range')\n",
    "plt.ylabel('Frequency')\n",
    "plt.grid(axis='y', alpha=1)\n",
    "plt.bar_label(patches)\n",
    "plt.show()"
   ]
  },
  {
   "cell_type": "code",
   "execution_count": 63,
   "metadata": {},
   "outputs": [
    {
     "name": "stdout",
     "output_type": "stream",
     "text": [
      "+--------------------+-----+\n",
      "|              umpire|count|\n",
      "+--------------------+-----+\n",
      "|       Sundaram Ravi|  117|\n",
      "|      Anil Chaudhary|  109|\n",
      "|Chettithody Shams...|   80|\n",
      "|    Kumar Dharmasena|   78|\n",
      "|         Nitin Menon|   78|\n",
      "|      Chris Gaffaney|   65|\n",
      "|KN Ananthapadmana...|   62|\n",
      "|      Marais Erasmus|   60|\n",
      "|      Bruce Oxenford|   55|\n",
      "|          Rod Tucker|   54|\n",
      "|              Nandan|   52|\n",
      "|     Virender Sharma|   50|\n",
      "|     Vineet Kulkarni|   48|\n",
      "|           Asad Rauf|   42|\n",
      "|        Simon Taufel|   38|\n",
      "|           Aleem Dar|   36|\n",
      "| Richard Illingworth|   35|\n",
      "|       Rudi Koertzen|   33|\n",
      "|      Yeshwant Barde|   33|\n",
      "|      Billy Doctrove|   33|\n",
      "+--------------------+-----+\n",
      "only showing top 20 rows\n",
      "\n"
     ]
    }
   ],
   "source": [
    "df.createOrReplaceTempView(\"matches\")\n",
    "\n",
    "query = \"\"\"\n",
    "SELECT umpire, COUNT(*) as count\n",
    "FROM (\n",
    "    SELECT umpire1 AS umpire FROM matches\n",
    "    UNION ALL\n",
    "    SELECT umpire2 FROM matches\n",
    ") AS combined_umpires\n",
    "GROUP BY umpire\n",
    "ORDER BY count DESC\n",
    "\"\"\"\n",
    "\n",
    "result = spark.sql(query)\n",
    "result.show()"
   ]
  },
  {
   "cell_type": "code",
   "execution_count": 64,
   "metadata": {},
   "outputs": [
    {
     "data": {
      "text/plain": [
       "['sn',\n",
       " 'season',\n",
       " 'id',\n",
       " 'name',\n",
       " 'short_name',\n",
       " 'description',\n",
       " 'home_team',\n",
       " 'away_team',\n",
       " 'toss_won',\n",
       " 'decision',\n",
       " '1st_inning_score',\n",
       " '2nd_inning_score',\n",
       " 'winner',\n",
       " 'result',\n",
       " 'start_date',\n",
       " 'end_date',\n",
       " 'venue_id',\n",
       " 'venue_name',\n",
       " 'home_captain',\n",
       " 'away_captain',\n",
       " 'pom',\n",
       " 'points',\n",
       " 'super_over',\n",
       " 'home_overs',\n",
       " 'home_runs',\n",
       " 'home_wickets',\n",
       " 'home_boundaries',\n",
       " 'away_overs',\n",
       " 'away_runs',\n",
       " 'away_wickets',\n",
       " 'away_boundaries',\n",
       " 'highlights',\n",
       " 'home_key_batsman',\n",
       " 'home_key_bowler',\n",
       " 'home_playx1',\n",
       " 'away_playx1',\n",
       " 'away_key_batsman',\n",
       " 'away_key_bowler',\n",
       " 'match_days',\n",
       " 'umpire1',\n",
       " 'umpire2',\n",
       " 'tv_umpire',\n",
       " 'referee',\n",
       " 'reserve_umpire']"
      ]
     },
     "execution_count": 64,
     "metadata": {},
     "output_type": "execute_result"
    }
   ],
   "source": [
    "df.columns"
   ]
  },
  {
   "cell_type": "code",
   "execution_count": 65,
   "metadata": {},
   "outputs": [
    {
     "name": "stdout",
     "output_type": "stream",
     "text": [
      "+------------------+-----+\n",
      "|           captain|count|\n",
      "+------------------+-----+\n",
      "|          MS Dhoni|  186|\n",
      "|      Rohit Sharma|  139|\n",
      "|       Virat Kohli|  127|\n",
      "|    Gautam Gambhir|  115|\n",
      "|      David Warner|   71|\n",
      "|    Adam Gilchrist|   57|\n",
      "|      Shreyas Iyer|   49|\n",
      "|       Shane Warne|   48|\n",
      "|          KL Rahul|   48|\n",
      "|  Sachin Tendulkar|   44|\n",
      "|      Rahul Dravid|   42|\n",
      "|  Kumar Sangakkara|   42|\n",
      "|      Sanju Samson|   41|\n",
      "|    Dinesh Karthik|   40|\n",
      "|   Kane Williamson|   39|\n",
      "|      Yuvraj Singh|   39|\n",
      "|      Steven Smith|   38|\n",
      "|    Sourav Ganguly|   38|\n",
      "|   Virender Sehwag|   36|\n",
      "|Mahela Jayawardene|   30|\n",
      "+------------------+-----+\n",
      "only showing top 20 rows\n",
      "\n"
     ]
    }
   ],
   "source": [
    "query = \"\"\"\n",
    "SELECT captain, COUNT(*) as count\n",
    "FROM (\n",
    "    SELECT home_captain as captain FROM matches\n",
    "    UNION ALL\n",
    "    SELECT away_captain as captain FROM matches\n",
    ") AS combined_captain\n",
    "GROUP BY captain\n",
    "ORDER BY count DESC\n",
    "\"\"\"\n",
    "\n",
    "result = spark.sql(query)\n",
    "result.show()"
   ]
  },
  {
   "cell_type": "markdown",
   "metadata": {},
   "source": [
    "## Win prediction model"
   ]
  },
  {
   "cell_type": "code",
   "execution_count": 193,
   "metadata": {},
   "outputs": [],
   "source": [
    "from pyspark.sql.functions import col, udf\n",
    "from pyspark.sql.types import IntegerType\n",
    "from pyspark.ml.feature import OneHotEncoder, StringIndexer, VectorAssembler\n",
    "from pyspark.ml.classification import RandomForestClassifier\n",
    "from pyspark.ml import Pipeline\n",
    "from pyspark.ml.evaluation import MulticlassClassificationEvaluator"
   ]
  },
  {
   "cell_type": "markdown",
   "metadata": {},
   "source": [
    "### Feature Enginnering"
   ]
  },
  {
   "cell_type": "code",
   "execution_count": 194,
   "metadata": {},
   "outputs": [],
   "source": [
    "features_df = df.select('venue_name', 'home_team', 'away_team', 'winner')\n",
    "unique_teams_list = (features_df.select(\"home_team\")\n",
    "                     .union(features_df.select(\"away_team\"))\n",
    "                     .union(features_df.select(\"winner\"))\n",
    "                     .distinct()\n",
    "                     .rdd.flatMap(lambda x: x)\n",
    "                     .collect())\n",
    "\n",
    "team_index = {team: idx for idx, team in enumerate(unique_teams_list)}\n",
    "\n",
    "map_to_index = udf(lambda team: team_index[team] if team in team_index else None, IntegerType())\n",
    "\n",
    "indexed_df = (features_df\n",
    "              .withColumn(\"home_team_index\", map_to_index(\"home_team\"))\n",
    "              .withColumn(\"away_team_index\", map_to_index(\"away_team\"))\n",
    "              .withColumn(\"winner_index\", map_to_index(\"winner\")))"
   ]
  },
  {
   "cell_type": "code",
   "execution_count": 195,
   "metadata": {},
   "outputs": [],
   "source": [
    "indexer = StringIndexer(inputCols=['venue_name'], \n",
    "                        outputCols=['venue_index'])\n",
    "indexed = indexer.fit(indexed_df).transform(indexed_df)\n"
   ]
  },
  {
   "cell_type": "code",
   "execution_count": 196,
   "metadata": {},
   "outputs": [
    {
     "name": "stdout",
     "output_type": "stream",
     "text": [
      "+--------------------+---------+---------+------+---------------+---------------+------------+-----------+\n",
      "|          venue_name|home_team|away_team|winner|home_team_index|away_team_index|winner_index|venue_index|\n",
      "+--------------------+---------+---------+------+---------------+---------------+------------+-----------+\n",
      "|M.Chinnaswamy Sta...|      RCB|       GT|    GT|             10|              7|           7|        1.0|\n",
      "|Wankhede Stadium,...|       MI|      SRH|    MI|              6|              9|           6|        0.0|\n",
      "+--------------------+---------+---------+------+---------------+---------------+------------+-----------+\n",
      "only showing top 2 rows\n",
      "\n"
     ]
    }
   ],
   "source": [
    "indexed.show(2)"
   ]
  },
  {
   "cell_type": "code",
   "execution_count": 197,
   "metadata": {},
   "outputs": [],
   "source": [
    "encoder = OneHotEncoder(inputCols=['venue_index', 'home_team_index', 'away_team_index'],\n",
    "                        outputCols=['venue_vec', 'home_team_vec', 'away_team_vec'])\n",
    "\n",
    "label_indexer = StringIndexer(inputCol='winner', outputCol='label')\n",
    "\n",
    "pipeline = Pipeline(stages=[encoder, label_indexer])"
   ]
  },
  {
   "cell_type": "code",
   "execution_count": 198,
   "metadata": {},
   "outputs": [],
   "source": [
    "prepared_df = pipeline.fit(indexed).transform(indexed)"
   ]
  },
  {
   "cell_type": "code",
   "execution_count": 199,
   "metadata": {},
   "outputs": [
    {
     "name": "stdout",
     "output_type": "stream",
     "text": [
      "+--------------------+---------+---------+------+---------------+---------------+------------+-----------+---------------+---------------+--------------+-----+\n",
      "|          venue_name|home_team|away_team|winner|home_team_index|away_team_index|winner_index|venue_index|      venue_vec|  home_team_vec| away_team_vec|label|\n",
      "+--------------------+---------+---------+------+---------------+---------------+------------+-----------+---------------+---------------+--------------+-----+\n",
      "|M.Chinnaswamy Sta...|      RCB|       GT|    GT|             10|              7|           7|        1.0| (36,[1],[1.0])|(14,[10],[1.0])|(14,[7],[1.0])|  8.0|\n",
      "|Wankhede Stadium,...|       MI|      SRH|    MI|              6|              9|           6|        0.0| (36,[0],[1.0])| (14,[6],[1.0])|(14,[9],[1.0])|  0.0|\n",
      "|Eden Gardens, Kol...|      KKR|      LSG|   LSG|              0|              5|           5|        2.0| (36,[2],[1.0])| (14,[0],[1.0])|(14,[5],[1.0])| 10.0|\n",
      "|Arun Jaitley Stad...|       DC|      CSK|   CSK|              2|              8|           8|        3.0| (36,[3],[1.0])| (14,[2],[1.0])|(14,[8],[1.0])|  1.0|\n",
      "|Himachal Pradesh ...|     PBKS|       RR|    RR|             13|              4|           4|       19.0|(36,[19],[1.0])|(14,[13],[1.0])|(14,[4],[1.0])|  6.0|\n",
      "+--------------------+---------+---------+------+---------------+---------------+------------+-----------+---------------+---------------+--------------+-----+\n",
      "only showing top 5 rows\n",
      "\n"
     ]
    }
   ],
   "source": [
    "prepared_df.show(5)"
   ]
  },
  {
   "cell_type": "markdown",
   "metadata": {},
   "source": [
    "### Model Building"
   ]
  },
  {
   "cell_type": "code",
   "execution_count": 200,
   "metadata": {},
   "outputs": [],
   "source": [
    "train_data, test_data = prepared_df.randomSplit([0.8, 0.2], seed=42)"
   ]
  },
  {
   "cell_type": "code",
   "execution_count": 201,
   "metadata": {},
   "outputs": [],
   "source": [
    "assembler = VectorAssembler(inputCols=['venue_vec', 'home_team_vec', 'away_team_vec'], outputCol='features')\n",
    "train_data = assembler.transform(train_data)\n",
    "test_data = assembler.transform(test_data)"
   ]
  },
  {
   "cell_type": "code",
   "execution_count": 202,
   "metadata": {},
   "outputs": [],
   "source": [
    "lr = RandomForestClassifier(featuresCol='features', labelCol='label')\n",
    "lr_model = lr.fit(train_data)"
   ]
  },
  {
   "cell_type": "markdown",
   "metadata": {},
   "source": [
    "### Testing"
   ]
  },
  {
   "cell_type": "code",
   "execution_count": 203,
   "metadata": {},
   "outputs": [
    {
     "name": "stdout",
     "output_type": "stream",
     "text": [
      "Model Accuracy: 0.5205479452054794\n"
     ]
    }
   ],
   "source": [
    "predictions = lr_model.transform(test_data)\n",
    "\n",
    "# Evaluate the model\n",
    "evaluator = MulticlassClassificationEvaluator(labelCol='label', predictionCol='prediction', metricName='accuracy')\n",
    "accuracy = evaluator.evaluate(predictions)\n",
    "print(f\"Model Accuracy: {accuracy}\")"
   ]
  },
  {
   "cell_type": "code",
   "execution_count": 206,
   "metadata": {},
   "outputs": [
    {
     "name": "stdout",
     "output_type": "stream",
     "text": [
      "+--------------------+---------+---------+------+---------------+---------------+------------+-----------+---------------+--------------+---------------+-----+--------------------+--------------------+--------------------+----------+\n",
      "|          venue_name|home_team|away_team|winner|home_team_index|away_team_index|winner_index|venue_index|      venue_vec| home_team_vec|  away_team_vec|label|            features|       rawPrediction|         probability|prediction|\n",
      "+--------------------+---------+---------+------+---------------+---------------+------------+-----------+---------------+--------------+---------------+-----+--------------------+--------------------+--------------------+----------+\n",
      "|Arun Jaitley Stad...|       DC|      CSK|   CSK|              2|              8|           8|        3.0| (36,[3],[1.0])|(14,[2],[1.0])| (14,[8],[1.0])|  1.0|(64,[3,38,58],[1....|[1.47605620869806...|[0.07380281043490...|       5.0|\n",
      "|Arun Jaitley Stad...|       DC|      CSK|    DC|              2|              8|           2|        3.0| (36,[3],[1.0])|(14,[2],[1.0])| (14,[8],[1.0])|  5.0|(64,[3,38,58],[1....|[1.47605620869806...|[0.07380281043490...|       5.0|\n",
      "|Arun Jaitley Stad...|       DC|       GL|    DC|              2|              3|           2|        3.0| (36,[3],[1.0])|(14,[2],[1.0])| (14,[3],[1.0])|  5.0|(64,[3,38,53],[1....|[1.61628339114787...|[0.08081416955739...|       5.0|\n",
      "|Arun Jaitley Stad...|       DC|      KKR|    DC|              2|              0|           2|        3.0| (36,[3],[1.0])|(14,[2],[1.0])| (14,[0],[1.0])|  5.0|(64,[3,38,50],[1....|[1.63817716619874...|[0.08190885830993...|       5.0|\n",
      "|Arun Jaitley Stad...|       DC|      KKR|   KKR|              2|              0|           0|        3.0| (36,[3],[1.0])|(14,[2],[1.0])| (14,[0],[1.0])|  2.0|(64,[3,38,50],[1....|[1.63817716619874...|[0.08190885830993...|       5.0|\n",
      "|Arun Jaitley Stad...|       DC|     KXIP|    DC|              2|             14|           2|        3.0| (36,[3],[1.0])|(14,[2],[1.0])|     (14,[],[])|  5.0|(64,[3,38],[1.0,1...|[1.70451868526551...|[0.08522593426327...|       5.0|\n",
      "|Arun Jaitley Stad...|       DC|     KXIP|  KXIP|              2|             14|          14|        3.0| (36,[3],[1.0])|(14,[2],[1.0])|     (14,[],[])|  7.0|(64,[3,38],[1.0,1...|[1.70451868526551...|[0.08522593426327...|       5.0|\n",
      "|Arun Jaitley Stad...|       DC|       MI|    DC|              2|              6|           2|        3.0| (36,[3],[1.0])|(14,[2],[1.0])| (14,[6],[1.0])|  5.0|(64,[3,38,56],[1....|[5.67041632863479...|[0.28352081643173...|       0.0|\n",
      "|Arun Jaitley Stad...|       DC|      RCB|    DC|              2|             10|           2|        3.0| (36,[3],[1.0])|(14,[2],[1.0])|(14,[10],[1.0])|  5.0|(64,[3,38,60],[1....|[1.34921290610773...|[0.06746064530538...|       3.0|\n",
      "|Arun Jaitley Stad...|       DC|      RCB|    DC|              2|             10|           2|        3.0| (36,[3],[1.0])|(14,[2],[1.0])|(14,[10],[1.0])|  5.0|(64,[3,38,60],[1....|[1.34921290610773...|[0.06746064530538...|       3.0|\n",
      "|Arun Jaitley Stad...|       DC|      RCB|    DC|              2|             10|           2|        3.0| (36,[3],[1.0])|(14,[2],[1.0])|(14,[10],[1.0])|  5.0|(64,[3,38,60],[1....|[1.34921290610773...|[0.06746064530538...|       3.0|\n",
      "|Arun Jaitley Stad...|       DC|      RCB|   RCB|              2|             10|          10|        3.0| (36,[3],[1.0])|(14,[2],[1.0])|(14,[10],[1.0])|  3.0|(64,[3,38,60],[1....|[1.34921290610773...|[0.06746064530538...|       3.0|\n",
      "|Arun Jaitley Stad...|       DC|      RCB|   RCB|              2|             10|          10|        3.0| (36,[3],[1.0])|(14,[2],[1.0])|(14,[10],[1.0])|  3.0|(64,[3,38,60],[1....|[1.34921290610773...|[0.06746064530538...|       3.0|\n",
      "|Arun Jaitley Stad...|       DC|      RPS|   RPS|              2|             11|          11|        3.0| (36,[3],[1.0])|(14,[2],[1.0])|(14,[11],[1.0])| 11.0|(64,[3,38,61],[1....|[1.70451868526551...|[0.08522593426327...|       5.0|\n",
      "|Arun Jaitley Stad...|       DC|       RR|    RR|              2|              4|           4|        3.0| (36,[3],[1.0])|(14,[2],[1.0])| (14,[4],[1.0])|  6.0|(64,[3,38,54],[1....|[1.70451868526551...|[0.08522593426327...|       5.0|\n",
      "|Arun Jaitley Stad...|       MI|      CSK|    MI|              6|              8|           6|        3.0| (36,[3],[1.0])|(14,[6],[1.0])| (14,[8],[1.0])|  0.0|(64,[3,42,58],[1....|[5.66141989668433...|[0.28307099483421...|       0.0|\n",
      "|Barabati Stadium,...|      SRH|      PWI|   SRH|              9|             12|           9|       23.0|(36,[23],[1.0])|(14,[9],[1.0])|(14,[12],[1.0])|  4.0|(64,[23,45,62],[1...|[1.76313227100706...|[0.08815661355035...|       4.0|\n",
      "|Brabourne Stadium...|       MI|       RR|    MI|              6|              4|           6|       12.0|(36,[12],[1.0])|(14,[6],[1.0])| (14,[4],[1.0])|  0.0|(64,[12,42,54],[1...|[6.15275371897317...|[0.30763768594865...|       0.0|\n",
      "|Buffalo Park, Eas...|      KKR|       MI|    MI|              0|              6|           6|       32.0|(36,[32],[1.0])|(14,[0],[1.0])| (14,[6],[1.0])|  0.0|(64,[32,36,56],[1...|[5.43606700504132...|[0.27180335025206...|       0.0|\n",
      "|Dr DY Patil Sport...|       MI|       DC|    MI|              6|              2|           6|       15.0|(36,[15],[1.0])|(14,[6],[1.0])| (14,[2],[1.0])|  0.0|(64,[15,42,52],[1...|[6.12037438597646...|[0.30601871929882...|       0.0|\n",
      "+--------------------+---------+---------+------+---------------+---------------+------------+-----------+---------------+--------------+---------------+-----+--------------------+--------------------+--------------------+----------+\n",
      "only showing top 20 rows\n",
      "\n"
     ]
    }
   ],
   "source": [
    "predictions.show()"
   ]
  },
  {
   "cell_type": "code",
   "execution_count": 204,
   "metadata": {},
   "outputs": [
    {
     "name": "stdout",
     "output_type": "stream",
     "text": [
      "Precision: 0.4650713933631585\n",
      "Recall: 0.5205479452054794\n",
      "F1 Score: 0.47791133196048585\n"
     ]
    }
   ],
   "source": [
    "from pyspark.ml.evaluation import MulticlassClassificationEvaluator\n",
    "\n",
    "# Initialize the evaluator with the respective metric\n",
    "precision_evaluator = MulticlassClassificationEvaluator(labelCol=\"label\", predictionCol=\"prediction\", metricName=\"weightedPrecision\")\n",
    "recall_evaluator = MulticlassClassificationEvaluator(labelCol=\"label\", predictionCol=\"prediction\", metricName=\"weightedRecall\")\n",
    "f1_evaluator = MulticlassClassificationEvaluator(labelCol=\"label\", predictionCol=\"prediction\", metricName=\"f1\")\n",
    "\n",
    "# Compute the metrics\n",
    "precision = precision_evaluator.evaluate(predictions)\n",
    "recall = recall_evaluator.evaluate(predictions)\n",
    "f1_score = f1_evaluator.evaluate(predictions)\n",
    "\n",
    "print(f\"Precision: {precision}\")\n",
    "print(f\"Recall: {recall}\")\n",
    "print(f\"F1 Score: {f1_score}\")\n"
   ]
  },
  {
   "cell_type": "code",
   "execution_count": 205,
   "metadata": {},
   "outputs": [
    {
     "name": "stdout",
     "output_type": "stream",
     "text": [
      "+---+------+-------+--------------------+----------+--------------------+---------+---------+--------+----------+----------------+----------------+------+--------------------+-----------------+-----------------+--------+--------------------+--------------+-------------+-------------+--------------------+----------+----------+---------+------------+---------------+----------+---------+------------+---------------+--------------------+--------------------+--------------------+--------------------+--------------------+--------------------+--------------------+--------------------+--------------------+---------------+------------+---------------+--------------+\n",
      "| sn|season|     id|                name|short_name|         description|home_team|away_team|toss_won|  decision|1st_inning_score|2nd_inning_score|winner|              result|       start_date|         end_date|venue_id|          venue_name|  home_captain| away_captain|          pom|              points|super_over|home_overs|home_runs|home_wickets|home_boundaries|away_overs|away_runs|away_wickets|away_boundaries|          highlights|    home_key_batsman|     home_key_bowler|         home_playx1|         away_playx1|    away_key_batsman|     away_key_bowler|          match_days|             umpire1|        umpire2|   tv_umpire|        referee|reserve_umpire|\n",
      "+---+------+-------+--------------------+----------+--------------------+---------+---------+--------+----------+----------------+----------------+------+--------------------+-----------------+-----------------+--------+--------------------+--------------+-------------+-------------+--------------------+----------+----------+---------+------------+---------------+----------+---------+------------+---------------+--------------------+--------------------+--------------------+--------------------+--------------------+--------------------+--------------------+--------------------+--------------------+---------------+------------+---------------+--------------+\n",
      "|  4|2023.0|1359544|Royal Challengers...|  RCB v GT|70th Match (N), I...|      RCB|       GT|      GT|BOWL FIRST|           197/5|           198/4|    GT|Titans won by 6 w...|2023-05-21T14:00Z|2023-05-22T23:59Z|   57897|M.Chinnaswamy Sta...|Faf du Plessis|Hardik Pandya| Shubman Gill|Gujarat Titans 2,...|     false|      20.0|    197.0|         5.0|           28.0|      19.1|    198.0|         4.0|           25.0|Gill's second str...|Virat Kohli,Faf d...|Mohammed Siraj,Ha...|Virat Kohli (UKN)...|Wriddhiman Saha (...|Shubman Gill,Vija...|Noor Ahmad,Rashid...|21 May 2023 - nig...|         Nitin Menon|Virender Sharma|Tapan Sharma|Javagal Srinath|    VM  Dhokre|\n",
      "|  5|2023.0|1359543|Mumbai Indians v ...|  MI v SRH|69th Match (D/N),...|       MI|      SRH|      MI|BOWL FIRST|           200/5|           201/2|    MI|Mumbai won by 8 w...|2023-05-21T10:00Z|2023-05-22T23:59Z|   58324|Wankhede Stadium,...|  Rohit Sharma|Aiden Markram|Cameron Green|Mumbai Indians 2,...|     false|      18.0|    201.0|         2.0|           31.0|      20.0|    200.0|         5.0|           27.0|Green century and...|Cameron Green,Roh...|Akash Madhwal,Chr...|Ishan Kishan (WK)...|Vivrant Sharma (A...|Mayank Agarwal,Vi...|Bhuvneshwar Kumar...|21 May 2023 - day...|KN Ananthapadmana...|     Rod Tucker|Rohan Pandit|Pankaj Dharmani|Parashar Joshi|\n",
      "+---+------+-------+--------------------+----------+--------------------+---------+---------+--------+----------+----------------+----------------+------+--------------------+-----------------+-----------------+--------+--------------------+--------------+-------------+-------------+--------------------+----------+----------+---------+------------+---------------+----------+---------+------------+---------------+--------------------+--------------------+--------------------+--------------------+--------------------+--------------------+--------------------+--------------------+--------------------+---------------+------------+---------------+--------------+\n",
      "only showing top 2 rows\n",
      "\n"
     ]
    }
   ],
   "source": [
    "df.show(2)"
   ]
  }
 ],
 "metadata": {
  "kernelspec": {
   "display_name": "spark",
   "language": "python",
   "name": "python3"
  },
  "language_info": {
   "codemirror_mode": {
    "name": "ipython",
    "version": 3
   },
   "file_extension": ".py",
   "mimetype": "text/x-python",
   "name": "python",
   "nbconvert_exporter": "python",
   "pygments_lexer": "ipython3",
   "version": "3.11.7"
  }
 },
 "nbformat": 4,
 "nbformat_minor": 2
}
